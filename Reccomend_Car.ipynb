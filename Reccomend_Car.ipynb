{
 "cells": [
  {
   "cell_type": "code",
   "execution_count": 1,
   "id": "dcef85d9-79ef-4b8f-b843-36873de449c3",
   "metadata": {},
   "outputs": [],
   "source": [
    "import getpass\n",
    "import os\n",
    "\n",
    "\n",
    "# def _set_if_undefined(var: str):\n",
    "#     if not os.environ.get(var):\n",
    "#         os.environ[var] = getpass.getpass(f\"Please provide your {var}\")\n",
    "\n",
    "\n",
    "# _set_if_undefined(\"OPENAI_API_KEY\")\n",
    "# _set_if_undefined(\"TAVILY_API_KEY\")\n",
    "\n",
    "os.environ[\"OPENAI_API_KEY\"] = \"<ENTER KEY>\"\n",
    "os.environ[\"TAVILY_API_KEY\"] = \"<ENTER KEY>\""
   ]
  },
  {
   "cell_type": "code",
   "execution_count": 2,
   "id": "37fb2f32-7913-490d-9966-3ede20a78d70",
   "metadata": {},
   "outputs": [],
   "source": [
    "from langchain_openai import ChatOpenAI\n",
    "\n",
    "gtp4omini = ChatOpenAI(model=\"gpt-4o-mini\")"
   ]
  },
  {
   "cell_type": "code",
   "execution_count": 3,
   "id": "c63acd7b-df7f-49bd-bd73-52a102d6a660",
   "metadata": {},
   "outputs": [],
   "source": [
    "from langchain_core.messages import (\n",
    "    BaseMessage,\n",
    "    HumanMessage,\n",
    "    ToolMessage,\n",
    ")\n",
    "from langchain_core.prompts import ChatPromptTemplate, MessagesPlaceholder\n",
    "\n",
    "from langgraph.graph import END, StateGraph, START\n",
    "from langgraph.graph.message import add_messages\n",
    "from typing import Annotated\n",
    "\n",
    "from langchain_community.tools.tavily_search import TavilySearchResults\n",
    "from langchain_core.tools import tool\n",
    "from langchain_experimental.utilities import PythonREPL"
   ]
  },
  {
   "cell_type": "code",
   "execution_count": 4,
   "id": "6466d169-f4d4-49ba-9ccb-474cdbc7826f",
   "metadata": {},
   "outputs": [],
   "source": [
    "import operator\n",
    "from typing import Annotated, Sequence\n",
    "from typing_extensions import TypedDict\n",
    "\n",
    "from langchain_openai import ChatOpenAI\n",
    "\n",
    "\n",
    "# This defines the object that is passed between each node\n",
    "# in the graph. We will create different nodes for each agent and tool\n",
    "class AgentState(TypedDict):\n",
    "    messages: Annotated[Sequence[BaseMessage], operator.add]\n",
    "    sender: str"
   ]
  },
  {
   "cell_type": "code",
   "execution_count": 261,
   "id": "b36c22bf-e2b3-489d-b599-d3298a48572d",
   "metadata": {},
   "outputs": [],
   "source": [
    "JSON_SAMPLE={\n",
    "  \"user\": {\n",
    "    \"userId\": \"U123456789\",\n",
    "    \"personalInfo\": {\n",
    "      \"firstName\": \"Jane\",\n",
    "      \"lastName\": \"Doe\",\n",
    "      \"email\": \"jane.doe@example.com\",\n",
    "      \"phone\": \"+1-555-123-4567\",\n",
    "      \"creditScore\": 720,\n",
    "      \"address\": {\n",
    "        \"street\": \"123 Main St\",\n",
    "        \"city\": \"Anytown\",\n",
    "        \"state\": \"CA\",\n",
    "        \"zipCode\": \"90210\",\n",
    "        \"country\": \"USA\"\n",
    "      }\n",
    "    }\n",
    "  },\n",
    "  \"vehicle\": {\n",
    "    \"vehicleId\": \"V987654321\",\n",
    "    \"make\": \"Tesla\",\n",
    "    \"model\": \"Model 3\",\n",
    "    \"year\": 2023,\n",
    "    \"trim\": \"Long Range\",\n",
    "    \"msrp\": 50000,\n",
    "    \"dealerDiscount\": 2000,\n",
    "    \"options\": [\n",
    "      {\n",
    "        \"optionId\": \"O001\",\n",
    "        \"optionName\": \"Autopilot\",\n",
    "        \"optionPrice\": 5000\n",
    "      },\n",
    "      {\n",
    "        \"optionId\": \"O002\",\n",
    "        \"optionName\": \"Premium Interior\",\n",
    "        \"optionPrice\": 3000\n",
    "      }\n",
    "    ],\n",
    "    \"color\": \"Red Multi-Coat\",\n",
    "    \"vin\": \"5YJ3E1EA7LF000000\"\n",
    "  },\n",
    "  \"tradeIn\": {\n",
    "    \"hasTradeIn\": True,\n",
    "    \"tradeInVehicle\": {\n",
    "      \"make\": \"Honda\",\n",
    "      \"model\": \"Civic\",\n",
    "      \"year\": 2015,\n",
    "      \"mileage\": 60000,\n",
    "      \"estimatedValue\": 10000,\n",
    "      \"outstandingLoan\": 5000\n",
    "    }\n",
    "  },\n",
    "  \"financing\": {\n",
    "    \"downPayment\": 5000,\n",
    "    \"loanTermMonths\": 72,\n",
    "    \"interestRate\": 2.99,\n",
    "    \"salesTaxRate\": 7.25,\n",
    "    \"fees\": {\n",
    "      \"documentationFee\": 80,\n",
    "      \"registrationFee\": 400,\n",
    "      \"otherFees\": [\n",
    "        {\n",
    "          \"feeName\": \"Tire Recycling Fee\",\n",
    "          \"feeAmount\": 5\n",
    "        },\n",
    "        {\n",
    "          \"feeName\": \"Electronic Filing Fee\",\n",
    "          \"feeAmount\": 30\n",
    "        }\n",
    "      ]\n",
    "    },\n",
    "    \"rebates\": [\n",
    "      {\n",
    "        \"rebateName\": \"Electric Vehicle Rebate\",\n",
    "        \"rebateAmount\": 1500\n",
    "      }\n",
    "    ]\n",
    "  },\n",
    "  \"insurance\": {\n",
    "    \"provider\": \"Acme Insurance\",\n",
    "    \"policyNumber\": \"INS123456789\",\n",
    "    \"monthlyPremium\": 150,\n",
    "    \"coverage\": {\n",
    "      \"liability\": \"100/300/50\",\n",
    "      \"collision\": True,\n",
    "      \"comprehensive\": True,\n",
    "      \"uninsuredMotorist\": True,\n",
    "      \"personalInjuryProtection\": False\n",
    "    }\n",
    "  },\n",
    "  \"calculatedResults\": {\n",
    "    \"totalVehiclePrice\": 53000,\n",
    "    \"totalDiscounts\": 3500,\n",
    "    \"priceAfterDiscounts\": 49500,\n",
    "    \"tradeInCredit\": 5000,\n",
    "    \"taxableAmount\": 44500,\n",
    "    \"salesTaxAmount\": 3226.25,\n",
    "    \"totalFees\": 515,\n",
    "    \"totalRebates\": 1500,\n",
    "    \"amountFinanced\": 45741.25,\n",
    "    \"estimatedMonthlyPayment\": 682.15,\n",
    "    \"loanAmortizationSchedule\": [\n",
    "      {\n",
    "        \"month\": 1,\n",
    "        \"principal\": 500,\n",
    "        \"interest\": 114,\n",
    "        \"balance\": 45241.25\n",
    "      }\n",
    "    ]\n",
    "  },\n",
    "  \"metadata\": {\n",
    "    \"calculationDate\": \"2023-10-15T14:30:00Z\",\n",
    "    \"currency\": \"USD\",\n",
    "    \"locale\": \"en-US\",\n",
    "    \"version\": \"1.0.0\"\n",
    "  }\n",
    "}\n",
    "\n",
    "questions = [\n",
    "    # Vehicle and Initial Details\n",
    "    \"What car are you looking at? Please include the year and trim if possible.\",\n",
    "    \n",
    "    # Payment and Trade-in Details\n",
    "    \"Will you be making a down payment or trading in a vehicle?\",\n",
    "\n",
    "    # Finance or Lease Preference\n",
    "    \"Do you want to finance or lease the car? If leasing, how many miles per year?\",\n",
    "\n",
    "    # Term and Rate Preferences\n",
    "    \"If financing, how long would you like the loan term to be? Any preferred APR?\",\n",
    "\n",
    "    # Additional Information\n",
    "    \"Is there any other detail I should know, like incentives or your ZIP code for accurate pricing?\"\n",
    "]\n",
    "\n",
    "essential_questions= {\n",
    "  \"questions\": [\n",
    "    {\n",
    "      \"question\": \"What car are you looking at? Please include the year and trim if possible.\",\n",
    "      \"answer\": \"\"\n",
    "    },\n",
    "    {\n",
    "      \"question\": \"Will you be making a down payment or trading in a vehicle?\",\n",
    "      \"answer\": \"\"\n",
    "    },\n",
    "    {\n",
    "      \"question\": \"Do you want to finance or lease the car? If leasing, how many miles per year?\",\n",
    "      \"answer\": \"\"\n",
    "    },\n",
    "    {\n",
    "      \"question\": \"If financing, how long would you like the loan term to be? Any preferred APR?\",\n",
    "      \"answer\": \"\"\n",
    "    },\n",
    "    {\n",
    "      \"question\": \"Is there any other detail I should know, like incentives or your ZIP code for accurate pricing?\",\n",
    "      \"answer\": \"\"\n",
    "    }\n",
    "  ]\n",
    "}"
   ]
  },
  {
   "cell_type": "code",
   "execution_count": 262,
   "id": "43e0c2bc-4d83-4a2c-bee9-74c0ae192ab0",
   "metadata": {},
   "outputs": [],
   "source": [
    "import json\n",
    "import re\n",
    "\n",
    "# tools\n",
    "\n",
    "def validate_json(state) -> dict:\n",
    "    json_string = state[\"user_info_json\"]\n",
    "    # Remove potential markdown code block indicators\n",
    "    json_string_cleaned = re.sub(r\"```json|```\", \"\", json_string.strip())\n",
    "    \n",
    "    try:\n",
    "        # Attempt to parse the cleaned JSON string\n",
    "        parsed_json = json.loads(json_string_cleaned)\n",
    "        return {\"json_validated\": True, \"feedback\": \"\", \"user_info_json\": parsed_json}\n",
    "    except json.JSONDecodeError as e:\n",
    "        # Return the exception message if JSON is invalid\n",
    "        return {\"json_validated\": False, \"feedback\": str(e)}\n",
    "\n",
    "def get_unanswered_question(state):\n",
    "    \n",
    "    # Loop through each question in the JSON\n",
    "    for question_data in state['essential_questions']['questions']:\n",
    "        # If the answer field is empty, return the question and False\n",
    "        if question_data['answer']==\"\":\n",
    "            return {\"next_question\":question_data['question'], \"all_question_answered\":False}\n",
    "    \n",
    "    # If all questions are answered, return the input JSON and True\n",
    "    return {\"all_question_answered\":True}\n",
    "\n",
    "# def ask_user_input(state):\n",
    "#     user_response = input(f\"{state['next_question']}\\nUser: \")\n",
    "#     return {\"messages\":[user_response]}\n",
    "\n",
    "def human_feedback(state):\n",
    "    print(\"---human_feedback---\")\n",
    "    user_input = input(\"User: \")\n",
    "    # Loop through each question in the JSON\n",
    "    for question_data in state['essential_questions']['questions']:\n",
    "        # If the answer field is empty, return the question and False\n",
    "        if question_data['answer']==\"\":\n",
    "            question_data['answer']=user_input\n",
    "            return {\"messages\":[user_input]}\n",
    "\n",
    "def are_questions_remaining(state):\n",
    "    pass\n",
    "\n",
    "def router(state):\n",
    "    if state[\"all_question_answered\"]:\n",
    "        return \"no\"\n",
    "    else:\n",
    "        return \"yes\""
   ]
  },
  {
   "cell_type": "code",
   "execution_count": 263,
   "id": "66a98ae2-9b29-4014-924b-916cd842ec2d",
   "metadata": {},
   "outputs": [],
   "source": [
    "from langchain_core.prompts import ChatPromptTemplate\n",
    "\n",
    "# prompt templates and prompts\n",
    "extract_user_info_template = \"\"\"\n",
    "You are an AI tasked with extracting user information from a given message. \n",
    "Your goal is to accurately fill in the information required in the provided API JSON template using the information available in the filled-out questions JSON and the user's current message. \n",
    "Do not make assumptions or fill in details that are not explicitly mentioned in either the questions JSON or the message.\n",
    "Leave fields empty or null if the information is not present.\n",
    "Provide your response in JSON format.\n",
    "\n",
    "Here is the API JSON structure you need to fill:\n",
    "```json\n",
    "{json}\n",
    "```\n",
    "\n",
    "Here is the filled-out essential questions JSON containing user-provided information:\n",
    "```json\n",
    "{essential_questions}\n",
    "```\n",
    "\n",
    "Please accurately fill the API JSON using any relevant details from both the filled-out questions JSON and the user message, and return the updated API JSON. \n",
    "If certain details are missing or unclear from the message or filled-out questions JSON, leave those fields as null or empty. \n",
    "Do not invent information or guess.\n",
    "\n",
    "Response:\n",
    "\"\"\"\n",
    "extract_user_info_prompt = ChatPromptTemplate.from_template(extract_user_info_template)\n",
    "extract_user_info_chain = extract_user_info_prompt | gtp4omini\n",
    "\n",
    "determine_conversation_intent_template = \"\"\"\n",
    "You are an AI tasked with identifying the intent behind the user's message. \n",
    "Based on the user's response, you need to determine if the user wants to end the current conversation or is interrupting the conversation flow. \n",
    "If the user's message indicates that they want to end the conversation, respond with the JSON \"end_chat\". \n",
    "If their message is interrupting the flow or unrelated, also respond with \"end_chat\". \n",
    "Otherwise, respond with \"continue\".\n",
    "\n",
    "Consider the following:\n",
    "- If the user's response is answering the question then the conversation should \"continue\".\n",
    "- If the message is unrelated to the current conversation or interrupts the flow, also consider it as \"end_chat\"\n",
    "- If the user is still engaging with the topic or asking for further help, the intent should be \"continue\"\n",
    "\n",
    "You will only respond either \"end_chat\" or \"continue\"\n",
    "\n",
    "Current Question: {question}\n",
    "User message: {user_message}\n",
    "\n",
    "Response:\n",
    "\"\"\"\n",
    "determine_conversation_intent_prompt = ChatPromptTemplate.from_template(determine_conversation_intent_template)\n",
    "determine_conversation_intent_chain = determine_conversation_intent_prompt | gtp4omini\n",
    "\n",
    "follow_up_question_creator_template = \"\"\"\n",
    "\"\"\"\n",
    "follow_up_question_creator_prompt = ChatPromptTemplate.from_template(follow_up_question_creator_template)"
   ]
  },
  {
   "cell_type": "code",
   "execution_count": 264,
   "id": "189cd575-d690-4e9c-ad09-5afc16372875",
   "metadata": {},
   "outputs": [],
   "source": [
    "# functions\n",
    "def extract_possible_data(state):\n",
    "    response = extract_user_info_chain.invoke({\"json\":state[\"json\"], \"essential_questions\":state[\"essential_questions\"]})\n",
    "\n",
    "    return response.content\n",
    "\n",
    "def determine_conversation_intent(state):\n",
    "    if not state['all_question_answered']:\n",
    "        response = determine_conversation_intent_chain.invoke({\"question\":state[\"next_question\"], \"user_message\":state[\"messages\"][-1]})\n",
    "        print(f\"determine_conversation_intent: {response.content}\")\n",
    "        return response.content\n",
    "    else:\n",
    "        return \"end_chat\""
   ]
  },
  {
   "cell_type": "code",
   "execution_count": 265,
   "id": "06437b5f-bfc6-4a2f-ab3e-a3f9e72b15c3",
   "metadata": {},
   "outputs": [],
   "source": [
    "# define graph state\n",
    "class State(TypedDict):\n",
    "    # Messages have the type \"list\". The `add_messages` function\n",
    "    # in the annotation defines how this state key should be updated\n",
    "    # (in this case, it appends messages to the list, rather than overwriting them)\n",
    "    messages: Annotated[list, add_messages]\n",
    "    json: dict\n",
    "    essential_questions: dict\n",
    "    next_question: str\n",
    "    all_question_answered: bool\n",
    "    json_validated: bool\n",
    "    feedback: str\n",
    "\n",
    "graph_builder = StateGraph(State)"
   ]
  },
  {
   "cell_type": "markdown",
   "id": "f5597a5f-705b-4b46-9eb4-a012ac74ef50",
   "metadata": {},
   "source": [
    "### Define Nodes and Edge Logic"
   ]
  },
  {
   "cell_type": "code",
   "execution_count": 266,
   "id": "b8f7b65a-aafb-4956-9be0-8e3cd8f4f18c",
   "metadata": {},
   "outputs": [
    {
     "data": {
      "text/plain": [
       "<langgraph.graph.state.StateGraph at 0x26a54ec59d0>"
      ]
     },
     "execution_count": 266,
     "metadata": {},
     "output_type": "execute_result"
    }
   ],
   "source": [
    "# nodes\n",
    "graph_builder.add_node(\"are_there_more_questions\", are_questions_remaining)\n",
    "graph_builder.add_node(\"Ask_Question\", get_unanswered_question)\n",
    "graph_builder.add_node(\"user_input\", human_feedback)\n",
    "graph_builder.add_node(\"Extract_Info\", extract_possible_data)\n",
    "#graph_builder.add_node(\"continue_conversation_check\", determine_conversation_intent)"
   ]
  },
  {
   "cell_type": "code",
   "execution_count": 267,
   "id": "3647c128-be09-46f2-a24c-ba0f2137e9cc",
   "metadata": {},
   "outputs": [
    {
     "data": {
      "text/plain": [
       "<langgraph.graph.state.StateGraph at 0x26a54ec59d0>"
      ]
     },
     "execution_count": 267,
     "metadata": {},
     "output_type": "execute_result"
    }
   ],
   "source": [
    "# edge logic\n",
    "graph_builder.add_edge(START, \"are_there_more_questions\")\n",
    "graph_builder.add_conditional_edges(\n",
    "    \"are_there_more_questions\",\n",
    "    router,\n",
    "    # The following dictionary lets you tell the graph to interpret the condition's outputs as a specific node\n",
    "    {\"no\": \"Extract_Info\", \"yes\": \"Ask_Question\"},\n",
    ")\n",
    "graph_builder.add_edge(\"Ask_Question\", \"user_input\")\n",
    "graph_builder.add_conditional_edges(\n",
    "    \"user_input\",\n",
    "    determine_conversation_intent,\n",
    "    # The following dictionary lets you tell the graph to interpret the condition's outputs as a specific node\n",
    "    {\"continue\": \"are_there_more_questions\", \"end_chat\": \"Extract_Info\"},\n",
    ")\n",
    "graph_builder.add_edge(\"Extract_Info\", END)"
   ]
  },
  {
   "cell_type": "code",
   "execution_count": 268,
   "id": "3dcc06db-2fe9-4125-807d-d723d76ec196",
   "metadata": {},
   "outputs": [
    {
     "data": {
      "text/plain": [
       "<langgraph.graph.state.CompiledStateGraph at 0x26a5522ce10>"
      ]
     },
     "execution_count": 268,
     "metadata": {},
     "output_type": "execute_result"
    }
   ],
   "source": [
    "graph = graph_builder.compile()\n",
    "graph"
   ]
  },
  {
   "cell_type": "code",
   "execution_count": 269,
   "id": "3fdb92b4-dcf3-444b-b956-6df0c4418965",
   "metadata": {},
   "outputs": [
    {
     "data": {
      "image/jpeg": "[encoded data removed]",
      "text/plain": [
       "<IPython.core.display.Image object>"
      ]
     },
     "metadata": {},
     "output_type": "display_data"
    }
   ],
   "source": [
    "from IPython.display import Image, display\n",
    "display(Image(graph.get_graph(xray=True).draw_mermaid_png()))\n",
    "# try:\n",
    "#     display(Image(graph.get_graph(xray=True).draw_mermaid_png()))\n",
    "# except Exception:\n",
    "#     # This requires some extra dependencies and is optional\n",
    "#     pass"
   ]
  },
  {
   "cell_type": "code",
   "execution_count": 270,
   "id": "0f7c5bb6-4fe9-47bf-8dbb-597ed7400639",
   "metadata": {},
   "outputs": [],
   "source": [
    "def stream_graph_updates(all_question_answered: bool, json: dict, essential_questions: dict):\n",
    "    for event in graph.stream({\"all_question_answered\": all_question_answered, \"json\":json, \"essential_questions\":essential_questions}):\n",
    "        for value in event.values():\n",
    "            print(\"Assistant:\", value)"
   ]
  },
  {
   "cell_type": "code",
   "execution_count": 271,
   "id": "85674686-5ef7-4858-ae66-4605161064ae",
   "metadata": {},
   "outputs": [
    {
     "name": "stdout",
     "output_type": "stream",
     "text": [
      "Assistant: None\n",
      "Assistant: {'next_question': 'What car are you looking at? Please include the year and trim if possible.', 'all_question_answered': False}\n",
      "---human_feedback---\n"
     ]
    },
    {
     "name": "stdin",
     "output_type": "stream",
     "text": [
      "User:  I want a mustang\n"
     ]
    },
    {
     "name": "stdout",
     "output_type": "stream",
     "text": [
      "determine_conversation_intent: continue\n",
      "Assistant: {'messages': ['I want a mustang']}\n",
      "Assistant: None\n",
      "Assistant: {'next_question': 'Will you be making a down payment or trading in a vehicle?', 'all_question_answered': False}\n",
      "---human_feedback---\n"
     ]
    },
    {
     "name": "stdin",
     "output_type": "stream",
     "text": [
      "User:  down payment\n"
     ]
    },
    {
     "name": "stdout",
     "output_type": "stream",
     "text": [
      "determine_conversation_intent: continue\n",
      "Assistant: {'messages': ['down payment']}\n",
      "Assistant: None\n",
      "Assistant: {'next_question': 'Do you want to finance or lease the car? If leasing, how many miles per year?', 'all_question_answered': False}\n",
      "---human_feedback---\n"
     ]
    },
    {
     "name": "stdin",
     "output_type": "stream",
     "text": [
      "User:  finance\n"
     ]
    },
    {
     "name": "stdout",
     "output_type": "stream",
     "text": [
      "determine_conversation_intent: continue\n",
      "Assistant: {'messages': ['finance']}\n",
      "Assistant: None\n",
      "Assistant: {'next_question': 'If financing, how long would you like the loan term to be? Any preferred APR?', 'all_question_answered': False}\n",
      "---human_feedback---\n"
     ]
    },
    {
     "name": "stdin",
     "output_type": "stream",
     "text": [
      "User:  not sure, but I can afford $500 per month\n"
     ]
    },
    {
     "name": "stdout",
     "output_type": "stream",
     "text": [
      "determine_conversation_intent: continue\n",
      "Assistant: {'messages': ['not sure, but I can afford $500 per month']}\n",
      "Assistant: None\n",
      "Assistant: {'next_question': 'Is there any other detail I should know, like incentives or your ZIP code for accurate pricing?', 'all_question_answered': False}\n",
      "---human_feedback---\n"
     ]
    },
    {
     "name": "stdin",
     "output_type": "stream",
     "text": [
      "User:  my zip code is 48126\n"
     ]
    },
    {
     "name": "stdout",
     "output_type": "stream",
     "text": [
      "determine_conversation_intent: continue\n",
      "Assistant: {'messages': ['my zip code is 48126']}\n",
      "Assistant: None\n",
      "Assistant: {'all_question_answered': True}\n",
      "---human_feedback---\n"
     ]
    },
    {
     "ename": "KeyboardInterrupt",
     "evalue": "Interrupted by user",
     "output_type": "error",
     "traceback": [
      "\u001b[1;31m---------------------------------------------------------------------------\u001b[0m",
      "\u001b[1;31mKeyboardInterrupt\u001b[0m                         Traceback (most recent call last)",
      "Cell \u001b[1;32mIn[271], line 1\u001b[0m\n\u001b[1;32m----> 1\u001b[0m \u001b[43mstream_graph_updates\u001b[49m\u001b[43m(\u001b[49m\u001b[43mall_question_answered\u001b[49m\u001b[38;5;241;43m=\u001b[39;49m\u001b[38;5;28;43;01mFalse\u001b[39;49;00m\u001b[43m,\u001b[49m\u001b[43m \u001b[49m\u001b[43mjson\u001b[49m\u001b[38;5;241;43m=\u001b[39;49m\u001b[43mjson\u001b[49m\u001b[43m,\u001b[49m\u001b[43m \u001b[49m\u001b[43messential_questions\u001b[49m\u001b[38;5;241;43m=\u001b[39;49m\u001b[43messential_questions\u001b[49m\u001b[43m)\u001b[49m\n",
      "Cell \u001b[1;32mIn[270], line 2\u001b[0m, in \u001b[0;36mstream_graph_updates\u001b[1;34m(all_question_answered, json, essential_questions)\u001b[0m\n\u001b[0;32m      1\u001b[0m \u001b[38;5;28;01mdef\u001b[39;00m \u001b[38;5;21mstream_graph_updates\u001b[39m(all_question_answered: \u001b[38;5;28mbool\u001b[39m, json: \u001b[38;5;28mdict\u001b[39m, essential_questions: \u001b[38;5;28mdict\u001b[39m):\n\u001b[1;32m----> 2\u001b[0m \u001b[43m    \u001b[49m\u001b[38;5;28;43;01mfor\u001b[39;49;00m\u001b[43m \u001b[49m\u001b[43mevent\u001b[49m\u001b[43m \u001b[49m\u001b[38;5;129;43;01min\u001b[39;49;00m\u001b[43m \u001b[49m\u001b[43mgraph\u001b[49m\u001b[38;5;241;43m.\u001b[39;49m\u001b[43mstream\u001b[49m\u001b[43m(\u001b[49m\u001b[43m{\u001b[49m\u001b[38;5;124;43m\"\u001b[39;49m\u001b[38;5;124;43mall_question_answered\u001b[39;49m\u001b[38;5;124;43m\"\u001b[39;49m\u001b[43m:\u001b[49m\u001b[43m \u001b[49m\u001b[43mall_question_answered\u001b[49m\u001b[43m,\u001b[49m\u001b[43m \u001b[49m\u001b[38;5;124;43m\"\u001b[39;49m\u001b[38;5;124;43mjson\u001b[39;49m\u001b[38;5;124;43m\"\u001b[39;49m\u001b[43m:\u001b[49m\u001b[43mjson\u001b[49m\u001b[43m,\u001b[49m\u001b[43m \u001b[49m\u001b[38;5;124;43m\"\u001b[39;49m\u001b[38;5;124;43messential_questions\u001b[39;49m\u001b[38;5;124;43m\"\u001b[39;49m\u001b[43m:\u001b[49m\u001b[43messential_questions\u001b[49m\u001b[43m}\u001b[49m\u001b[43m)\u001b[49m\u001b[43m:\u001b[49m\n\u001b[0;32m      3\u001b[0m \u001b[43m        \u001b[49m\u001b[38;5;28;43;01mfor\u001b[39;49;00m\u001b[43m \u001b[49m\u001b[43mvalue\u001b[49m\u001b[43m \u001b[49m\u001b[38;5;129;43;01min\u001b[39;49;00m\u001b[43m \u001b[49m\u001b[43mevent\u001b[49m\u001b[38;5;241;43m.\u001b[39;49m\u001b[43mvalues\u001b[49m\u001b[43m(\u001b[49m\u001b[43m)\u001b[49m\u001b[43m:\u001b[49m\n\u001b[0;32m      4\u001b[0m \u001b[43m            \u001b[49m\u001b[38;5;28;43mprint\u001b[39;49m\u001b[43m(\u001b[49m\u001b[38;5;124;43m\"\u001b[39;49m\u001b[38;5;124;43mAssistant:\u001b[39;49m\u001b[38;5;124;43m\"\u001b[39;49m\u001b[43m,\u001b[49m\u001b[43m \u001b[49m\u001b[43mvalue\u001b[49m\u001b[43m)\u001b[49m\n",
      "File \u001b[1;32mD:\\Projects\\BloggerAI\\venv\\Lib\\site-packages\\langgraph\\pregel\\__init__.py:1315\u001b[0m, in \u001b[0;36mPregel.stream\u001b[1;34m(self, input, config, stream_mode, output_keys, interrupt_before, interrupt_after, debug, subgraphs)\u001b[0m\n\u001b[0;32m   1304\u001b[0m     \u001b[38;5;66;03m# Similarly to Bulk Synchronous Parallel / Pregel model\u001b[39;00m\n\u001b[0;32m   1305\u001b[0m     \u001b[38;5;66;03m# computation proceeds in steps, while there are channel updates\u001b[39;00m\n\u001b[0;32m   1306\u001b[0m     \u001b[38;5;66;03m# channel updates from step N are only visible in step N+1\u001b[39;00m\n\u001b[0;32m   1307\u001b[0m     \u001b[38;5;66;03m# channels are guaranteed to be immutable for the duration of the step,\u001b[39;00m\n\u001b[0;32m   1308\u001b[0m     \u001b[38;5;66;03m# with channel updates applied only at the transition between steps\u001b[39;00m\n\u001b[0;32m   1309\u001b[0m     \u001b[38;5;28;01mwhile\u001b[39;00m loop\u001b[38;5;241m.\u001b[39mtick(\n\u001b[0;32m   1310\u001b[0m         input_keys\u001b[38;5;241m=\u001b[39m\u001b[38;5;28mself\u001b[39m\u001b[38;5;241m.\u001b[39minput_channels,\n\u001b[0;32m   1311\u001b[0m         interrupt_before\u001b[38;5;241m=\u001b[39minterrupt_before_,\n\u001b[0;32m   1312\u001b[0m         interrupt_after\u001b[38;5;241m=\u001b[39minterrupt_after_,\n\u001b[0;32m   1313\u001b[0m         manager\u001b[38;5;241m=\u001b[39mrun_manager,\n\u001b[0;32m   1314\u001b[0m     ):\n\u001b[1;32m-> 1315\u001b[0m \u001b[43m        \u001b[49m\u001b[38;5;28;43;01mfor\u001b[39;49;00m\u001b[43m \u001b[49m\u001b[43m_\u001b[49m\u001b[43m \u001b[49m\u001b[38;5;129;43;01min\u001b[39;49;00m\u001b[43m \u001b[49m\u001b[43mrunner\u001b[49m\u001b[38;5;241;43m.\u001b[39;49m\u001b[43mtick\u001b[49m\u001b[43m(\u001b[49m\n\u001b[0;32m   1316\u001b[0m \u001b[43m            \u001b[49m\u001b[43mloop\u001b[49m\u001b[38;5;241;43m.\u001b[39;49m\u001b[43mtasks\u001b[49m\u001b[38;5;241;43m.\u001b[39;49m\u001b[43mvalues\u001b[49m\u001b[43m(\u001b[49m\u001b[43m)\u001b[49m\u001b[43m,\u001b[49m\n\u001b[0;32m   1317\u001b[0m \u001b[43m            \u001b[49m\u001b[43mtimeout\u001b[49m\u001b[38;5;241;43m=\u001b[39;49m\u001b[38;5;28;43mself\u001b[39;49m\u001b[38;5;241;43m.\u001b[39;49m\u001b[43mstep_timeout\u001b[49m\u001b[43m,\u001b[49m\n\u001b[0;32m   1318\u001b[0m \u001b[43m            \u001b[49m\u001b[43mretry_policy\u001b[49m\u001b[38;5;241;43m=\u001b[39;49m\u001b[38;5;28;43mself\u001b[39;49m\u001b[38;5;241;43m.\u001b[39;49m\u001b[43mretry_policy\u001b[49m\u001b[43m,\u001b[49m\n\u001b[0;32m   1319\u001b[0m \u001b[43m            \u001b[49m\u001b[43mget_waiter\u001b[49m\u001b[38;5;241;43m=\u001b[39;49m\u001b[43mget_waiter\u001b[49m\u001b[43m,\u001b[49m\n\u001b[0;32m   1320\u001b[0m \u001b[43m        \u001b[49m\u001b[43m)\u001b[49m\u001b[43m:\u001b[49m\n\u001b[0;32m   1321\u001b[0m \u001b[43m            \u001b[49m\u001b[38;5;66;43;03m# emit output\u001b[39;49;00m\n\u001b[0;32m   1322\u001b[0m \u001b[43m            \u001b[49m\u001b[38;5;28;43;01myield from\u001b[39;49;00m\u001b[43m \u001b[49m\u001b[43moutput\u001b[49m\u001b[43m(\u001b[49m\u001b[43m)\u001b[49m\n\u001b[0;32m   1323\u001b[0m \u001b[38;5;66;03m# emit output\u001b[39;00m\n",
      "File \u001b[1;32mD:\\Projects\\BloggerAI\\venv\\Lib\\site-packages\\langgraph\\pregel\\runner.py:56\u001b[0m, in \u001b[0;36mPregelRunner.tick\u001b[1;34m(self, tasks, reraise, timeout, retry_policy, get_waiter)\u001b[0m\n\u001b[0;32m     54\u001b[0m t \u001b[38;5;241m=\u001b[39m tasks[\u001b[38;5;241m0\u001b[39m]\n\u001b[0;32m     55\u001b[0m \u001b[38;5;28;01mtry\u001b[39;00m:\n\u001b[1;32m---> 56\u001b[0m     \u001b[43mrun_with_retry\u001b[49m\u001b[43m(\u001b[49m\u001b[43mt\u001b[49m\u001b[43m,\u001b[49m\u001b[43m \u001b[49m\u001b[43mretry_policy\u001b[49m\u001b[43m)\u001b[49m\n\u001b[0;32m     57\u001b[0m     \u001b[38;5;28mself\u001b[39m\u001b[38;5;241m.\u001b[39mcommit(t, \u001b[38;5;28;01mNone\u001b[39;00m)\n\u001b[0;32m     58\u001b[0m \u001b[38;5;28;01mexcept\u001b[39;00m \u001b[38;5;167;01mException\u001b[39;00m \u001b[38;5;28;01mas\u001b[39;00m exc:\n",
      "File \u001b[1;32mD:\\Projects\\BloggerAI\\venv\\Lib\\site-packages\\langgraph\\pregel\\retry.py:29\u001b[0m, in \u001b[0;36mrun_with_retry\u001b[1;34m(task, retry_policy)\u001b[0m\n\u001b[0;32m     27\u001b[0m task\u001b[38;5;241m.\u001b[39mwrites\u001b[38;5;241m.\u001b[39mclear()\n\u001b[0;32m     28\u001b[0m \u001b[38;5;66;03m# run the task\u001b[39;00m\n\u001b[1;32m---> 29\u001b[0m \u001b[43mtask\u001b[49m\u001b[38;5;241;43m.\u001b[39;49m\u001b[43mproc\u001b[49m\u001b[38;5;241;43m.\u001b[39;49m\u001b[43minvoke\u001b[49m\u001b[43m(\u001b[49m\u001b[43mtask\u001b[49m\u001b[38;5;241;43m.\u001b[39;49m\u001b[43minput\u001b[49m\u001b[43m,\u001b[49m\u001b[43m \u001b[49m\u001b[43mconfig\u001b[49m\u001b[43m)\u001b[49m\n\u001b[0;32m     30\u001b[0m \u001b[38;5;66;03m# if successful, end\u001b[39;00m\n\u001b[0;32m     31\u001b[0m \u001b[38;5;28;01mbreak\u001b[39;00m\n",
      "File \u001b[1;32mD:\\Projects\\BloggerAI\\venv\\Lib\\site-packages\\langgraph\\utils\\runnable.py:410\u001b[0m, in \u001b[0;36mRunnableSeq.invoke\u001b[1;34m(self, input, config, **kwargs)\u001b[0m\n\u001b[0;32m    408\u001b[0m context\u001b[38;5;241m.\u001b[39mrun(_set_config_context, config)\n\u001b[0;32m    409\u001b[0m \u001b[38;5;28;01mif\u001b[39;00m i \u001b[38;5;241m==\u001b[39m \u001b[38;5;241m0\u001b[39m:\n\u001b[1;32m--> 410\u001b[0m     \u001b[38;5;28minput\u001b[39m \u001b[38;5;241m=\u001b[39m \u001b[43mcontext\u001b[49m\u001b[38;5;241;43m.\u001b[39;49m\u001b[43mrun\u001b[49m\u001b[43m(\u001b[49m\u001b[43mstep\u001b[49m\u001b[38;5;241;43m.\u001b[39;49m\u001b[43minvoke\u001b[49m\u001b[43m,\u001b[49m\u001b[43m \u001b[49m\u001b[38;5;28;43minput\u001b[39;49m\u001b[43m,\u001b[49m\u001b[43m \u001b[49m\u001b[43mconfig\u001b[49m\u001b[43m,\u001b[49m\u001b[43m \u001b[49m\u001b[38;5;241;43m*\u001b[39;49m\u001b[38;5;241;43m*\u001b[39;49m\u001b[43mkwargs\u001b[49m\u001b[43m)\u001b[49m\n\u001b[0;32m    411\u001b[0m \u001b[38;5;28;01melse\u001b[39;00m:\n\u001b[0;32m    412\u001b[0m     \u001b[38;5;28minput\u001b[39m \u001b[38;5;241m=\u001b[39m context\u001b[38;5;241m.\u001b[39mrun(step\u001b[38;5;241m.\u001b[39minvoke, \u001b[38;5;28minput\u001b[39m, config)\n",
      "File \u001b[1;32mD:\\Projects\\BloggerAI\\venv\\Lib\\site-packages\\langgraph\\utils\\runnable.py:184\u001b[0m, in \u001b[0;36mRunnableCallable.invoke\u001b[1;34m(self, input, config, **kwargs)\u001b[0m\n\u001b[0;32m    182\u001b[0m \u001b[38;5;28;01melse\u001b[39;00m:\n\u001b[0;32m    183\u001b[0m     context\u001b[38;5;241m.\u001b[39mrun(_set_config_context, config)\n\u001b[1;32m--> 184\u001b[0m     ret \u001b[38;5;241m=\u001b[39m \u001b[43mcontext\u001b[49m\u001b[38;5;241;43m.\u001b[39;49m\u001b[43mrun\u001b[49m\u001b[43m(\u001b[49m\u001b[38;5;28;43mself\u001b[39;49m\u001b[38;5;241;43m.\u001b[39;49m\u001b[43mfunc\u001b[49m\u001b[43m,\u001b[49m\u001b[43m \u001b[49m\u001b[38;5;28;43minput\u001b[39;49m\u001b[43m,\u001b[49m\u001b[43m \u001b[49m\u001b[38;5;241;43m*\u001b[39;49m\u001b[38;5;241;43m*\u001b[39;49m\u001b[43mkwargs\u001b[49m\u001b[43m)\u001b[49m\n\u001b[0;32m    185\u001b[0m \u001b[38;5;28;01mif\u001b[39;00m \u001b[38;5;28misinstance\u001b[39m(ret, Runnable) \u001b[38;5;129;01mand\u001b[39;00m \u001b[38;5;28mself\u001b[39m\u001b[38;5;241m.\u001b[39mrecurse:\n\u001b[0;32m    186\u001b[0m     \u001b[38;5;28;01mreturn\u001b[39;00m ret\u001b[38;5;241m.\u001b[39minvoke(\u001b[38;5;28minput\u001b[39m, config)\n",
      "Cell \u001b[1;32mIn[262], line 36\u001b[0m, in \u001b[0;36mhuman_feedback\u001b[1;34m(state)\u001b[0m\n\u001b[0;32m     34\u001b[0m \u001b[38;5;28;01mdef\u001b[39;00m \u001b[38;5;21mhuman_feedback\u001b[39m(state):\n\u001b[0;32m     35\u001b[0m     \u001b[38;5;28mprint\u001b[39m(\u001b[38;5;124m\"\u001b[39m\u001b[38;5;124m---human_feedback---\u001b[39m\u001b[38;5;124m\"\u001b[39m)\n\u001b[1;32m---> 36\u001b[0m     user_input \u001b[38;5;241m=\u001b[39m \u001b[38;5;28;43minput\u001b[39;49m\u001b[43m(\u001b[49m\u001b[38;5;124;43m\"\u001b[39;49m\u001b[38;5;124;43mUser: \u001b[39;49m\u001b[38;5;124;43m\"\u001b[39;49m\u001b[43m)\u001b[49m\n\u001b[0;32m     37\u001b[0m     \u001b[38;5;66;03m# Loop through each question in the JSON\u001b[39;00m\n\u001b[0;32m     38\u001b[0m     \u001b[38;5;28;01mfor\u001b[39;00m question_data \u001b[38;5;129;01min\u001b[39;00m state[\u001b[38;5;124m'\u001b[39m\u001b[38;5;124messential_questions\u001b[39m\u001b[38;5;124m'\u001b[39m][\u001b[38;5;124m'\u001b[39m\u001b[38;5;124mquestions\u001b[39m\u001b[38;5;124m'\u001b[39m]:\n\u001b[0;32m     39\u001b[0m         \u001b[38;5;66;03m# If the answer field is empty, return the question and False\u001b[39;00m\n",
      "File \u001b[1;32mD:\\Projects\\BloggerAI\\venv\\Lib\\site-packages\\ipykernel\\kernelbase.py:1282\u001b[0m, in \u001b[0;36mKernel.raw_input\u001b[1;34m(self, prompt)\u001b[0m\n\u001b[0;32m   1280\u001b[0m     msg \u001b[38;5;241m=\u001b[39m \u001b[38;5;124m\"\u001b[39m\u001b[38;5;124mraw_input was called, but this frontend does not support input requests.\u001b[39m\u001b[38;5;124m\"\u001b[39m\n\u001b[0;32m   1281\u001b[0m     \u001b[38;5;28;01mraise\u001b[39;00m StdinNotImplementedError(msg)\n\u001b[1;32m-> 1282\u001b[0m \u001b[38;5;28;01mreturn\u001b[39;00m \u001b[38;5;28;43mself\u001b[39;49m\u001b[38;5;241;43m.\u001b[39;49m\u001b[43m_input_request\u001b[49m\u001b[43m(\u001b[49m\n\u001b[0;32m   1283\u001b[0m \u001b[43m    \u001b[49m\u001b[38;5;28;43mstr\u001b[39;49m\u001b[43m(\u001b[49m\u001b[43mprompt\u001b[49m\u001b[43m)\u001b[49m\u001b[43m,\u001b[49m\n\u001b[0;32m   1284\u001b[0m \u001b[43m    \u001b[49m\u001b[38;5;28;43mself\u001b[39;49m\u001b[38;5;241;43m.\u001b[39;49m\u001b[43m_parent_ident\u001b[49m\u001b[43m[\u001b[49m\u001b[38;5;124;43m\"\u001b[39;49m\u001b[38;5;124;43mshell\u001b[39;49m\u001b[38;5;124;43m\"\u001b[39;49m\u001b[43m]\u001b[49m\u001b[43m,\u001b[49m\n\u001b[0;32m   1285\u001b[0m \u001b[43m    \u001b[49m\u001b[38;5;28;43mself\u001b[39;49m\u001b[38;5;241;43m.\u001b[39;49m\u001b[43mget_parent\u001b[49m\u001b[43m(\u001b[49m\u001b[38;5;124;43m\"\u001b[39;49m\u001b[38;5;124;43mshell\u001b[39;49m\u001b[38;5;124;43m\"\u001b[39;49m\u001b[43m)\u001b[49m\u001b[43m,\u001b[49m\n\u001b[0;32m   1286\u001b[0m \u001b[43m    \u001b[49m\u001b[43mpassword\u001b[49m\u001b[38;5;241;43m=\u001b[39;49m\u001b[38;5;28;43;01mFalse\u001b[39;49;00m\u001b[43m,\u001b[49m\n\u001b[0;32m   1287\u001b[0m \u001b[43m\u001b[49m\u001b[43m)\u001b[49m\n",
      "File \u001b[1;32mD:\\Projects\\BloggerAI\\venv\\Lib\\site-packages\\ipykernel\\kernelbase.py:1325\u001b[0m, in \u001b[0;36mKernel._input_request\u001b[1;34m(self, prompt, ident, parent, password)\u001b[0m\n\u001b[0;32m   1322\u001b[0m \u001b[38;5;28;01mexcept\u001b[39;00m \u001b[38;5;167;01mKeyboardInterrupt\u001b[39;00m:\n\u001b[0;32m   1323\u001b[0m     \u001b[38;5;66;03m# re-raise KeyboardInterrupt, to truncate traceback\u001b[39;00m\n\u001b[0;32m   1324\u001b[0m     msg \u001b[38;5;241m=\u001b[39m \u001b[38;5;124m\"\u001b[39m\u001b[38;5;124mInterrupted by user\u001b[39m\u001b[38;5;124m\"\u001b[39m\n\u001b[1;32m-> 1325\u001b[0m     \u001b[38;5;28;01mraise\u001b[39;00m \u001b[38;5;167;01mKeyboardInterrupt\u001b[39;00m(msg) \u001b[38;5;28;01mfrom\u001b[39;00m \u001b[38;5;28;01mNone\u001b[39;00m\n\u001b[0;32m   1326\u001b[0m \u001b[38;5;28;01mexcept\u001b[39;00m \u001b[38;5;167;01mException\u001b[39;00m:\n\u001b[0;32m   1327\u001b[0m     \u001b[38;5;28mself\u001b[39m\u001b[38;5;241m.\u001b[39mlog\u001b[38;5;241m.\u001b[39mwarning(\u001b[38;5;124m\"\u001b[39m\u001b[38;5;124mInvalid Message:\u001b[39m\u001b[38;5;124m\"\u001b[39m, exc_info\u001b[38;5;241m=\u001b[39m\u001b[38;5;28;01mTrue\u001b[39;00m)\n",
      "\u001b[1;31mKeyboardInterrupt\u001b[0m: Interrupted by user"
     ]
    }
   ],
   "source": [
    "stream_graph_updates(all_question_answered=False, json=json, essential_questions=essential_questions)"
   ]
  },
  {
   "cell_type": "code",
   "execution_count": null,
   "id": "d94174f7-dfcc-477d-9145-258f9bab0e9a",
   "metadata": {},
   "outputs": [],
   "source": []
  },
  {
   "cell_type": "code",
   "execution_count": null,
   "id": "7904a2d1-d2f4-4228-89d8-59beb6d58546",
   "metadata": {},
   "outputs": [],
   "source": []
  }
 ],
 "metadata": {
  "kernelspec": {
   "display_name": "Python 3 (ipykernel)",
   "language": "python",
   "name": "python3"
  },
  "language_info": {
   "codemirror_mode": {
    "name": "ipython",
    "version": 3
   },
   "file_extension": ".py",
   "mimetype": "text/x-python",
   "name": "python",
   "nbconvert_exporter": "python",
   "pygments_lexer": "ipython3",
   "version": "3.11.3"
  }
 },
 "nbformat": 4,
 "nbformat_minor": 5
}
